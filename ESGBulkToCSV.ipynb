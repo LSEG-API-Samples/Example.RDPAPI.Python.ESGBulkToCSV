{
 "cells": [
  {
   "cell_type": "markdown",
   "metadata": {},
   "source": [
    "# Saving ESG Bulk Content as CSV Files"
   ]
  },
  {
   "cell_type": "code",
   "execution_count": null,
   "metadata": {},
   "outputs": [],
   "source": [
    "import gzip\n",
    "import pandas as pd\n",
    "import json"
   ]
  },
  {
   "cell_type": "markdown",
   "metadata": {},
   "source": [
    "### Pre-requisites\n",
    "Files that we use are available on disk.  To learn more of how to requesta and download ESG Bulk content please refer to \n",
    "\n",
    "https://developers.refinitiv.com/en/article-catalog/article/how-to-identify-and-request-esg-bulk-content---python"
   ]
  },
  {
   "cell_type": "markdown",
   "metadata": {},
   "source": [
    "###  Flatten ESG Scores File\n",
    "Quick and very simple"
   ]
  },
  {
   "cell_type": "code",
   "execution_count": null,
   "metadata": {},
   "outputs": [],
   "source": [
    "#convert specific json to csv  ESG-Scores\n",
    "fileNameRoot = 'RFT-ESG-Scores-Current-init-2021-05-02'\n",
    "\n",
    "filedestinationpath = '.\\\\'\n",
    "filename = filedestinationpath + fileNameRoot + '.jsonl.gz'\n",
    "f=gzip.open(filename,'rb')\n",
    "file_content=f.read()\n",
    "lines = file_content.splitlines()\n",
    "df_inter = pd.DataFrame(lines)\n",
    "df_inter.columns = ['json_element']\n",
    "df_resolve = df_inter['json_element'].apply(json.loads)\n",
    "df_resolve\n",
    "df_final = pd.json_normalize(df_resolve)\n",
    "df_final['ESGOrganization.Names.Name.OrganizationName'] = pd.json_normalize(df_final['ESGOrganization.Names.Name.OrganizationName'].str[0])\n",
    "resultspth = filedestinationpath + fileNameRoot + '.csv'\n",
    "df_final.to_csv(resultspth, index = False)\n",
    "df_final"
   ]
  },
  {
   "cell_type": "markdown",
   "metadata": {},
   "source": [
    "### Flatten  ESG Symbology SEDOL\n",
    "Symbology SEDOL carries multiple Quotes as nexted objects, this takes longer to process..."
   ]
  },
  {
   "cell_type": "markdown",
   "metadata": {},
   "source": [
    "### Define flatten_json\n",
    "\n",
    "We will be using code https://towardsdatascience.com/flattening-json-objects-in-python-f5343c794b10\n",
    "\n",
    "Rather then https://pypi.org/project/flatten-json/"
   ]
  },
  {
   "cell_type": "code",
   "execution_count": null,
   "metadata": {},
   "outputs": [],
   "source": [
    "def flatten_json(nested_json, exclude=['']):\n",
    "    \"\"\"Flatten json object with nested keys into a single level.\n",
    "        Args:\n",
    "            nested_json: A nested json object.\n",
    "            exclude: Keys to exclude from output.\n",
    "        Returns:\n",
    "            The flattened json object if successful, None otherwise.\n",
    "    \"\"\"\n",
    "    out = {}\n",
    "\n",
    "    def flatten(x, name='', exclude=exclude):\n",
    "        if type(x) is dict:\n",
    "            for a in x:\n",
    "                if a not in exclude: flatten(x[a], name + a + '_')\n",
    "        elif type(x) is list:\n",
    "            i = 0\n",
    "            for a in x:\n",
    "                flatten(a, name + str(i) + '_')\n",
    "                i += 1\n",
    "        else:\n",
    "            out[name[:-1]] = x\n",
    "\n",
    "    flatten(nested_json)\n",
    "    return out"
   ]
  },
  {
   "cell_type": "markdown",
   "metadata": {},
   "source": [
    "### Normalize All"
   ]
  },
  {
   "cell_type": "code",
   "execution_count": null,
   "metadata": {},
   "outputs": [],
   "source": [
    "fileNameRoot = 'RFT-ESG-Symbology-SEDOL-Delta-2021-05-13'\n",
    "#convert specific json to csv\n",
    "filedestinationpath = '.\\\\'\n",
    "filename = filedestinationpath + fileNameRoot + '.jsonl.gz'\n",
    "f=gzip.open(filename,'rb')\n",
    "file_content=f.read()\n",
    "lines = file_content.splitlines()\n",
    "df_inter = pd.DataFrame(lines)\n",
    "df_inter.columns = ['json_element']\n",
    "df_resolve = df_inter['json_element'].apply(json.loads)\n",
    "df_resolve\n",
    "df_inter2 = pd.json_normalize(df_resolve)\n",
    "df_inter2"
   ]
  },
  {
   "cell_type": "markdown",
   "metadata": {},
   "source": [
    "### Normalize Nested\n",
    "By iterating rows and flattenting AllQuotes column that contains nested lists - this takes longer..."
   ]
  },
  {
   "cell_type": "code",
   "execution_count": null,
   "metadata": {},
   "outputs": [],
   "source": [
    "df_accum = pd.DataFrame() \n",
    "for i in range(0,df_inter2['AllQuotes'].size):\n",
    "    df_accum = df_accum.append(pd.json_normalize(flatten_json(df_inter2['AllQuotes'][i])))\n",
    "df_accum"
   ]
  },
  {
   "cell_type": "markdown",
   "metadata": {},
   "source": [
    "### Merge Columns\n",
    "Merging previously normalized columns and newly created columns originating from flattened AllQuotes"
   ]
  },
  {
   "cell_type": "code",
   "execution_count": null,
   "metadata": {},
   "outputs": [],
   "source": [
    "df_fin = df_inter2.merge(df_accum, left_index=True, right_index=True)\n",
    "df_fin"
   ]
  },
  {
   "cell_type": "markdown",
   "metadata": {},
   "source": [
    "### Delete Nested AllQuotes Column"
   ]
  },
  {
   "cell_type": "code",
   "execution_count": null,
   "metadata": {},
   "outputs": [],
   "source": [
    "df_final = df_fin.drop('AllQuotes', 1)"
   ]
  },
  {
   "cell_type": "markdown",
   "metadata": {},
   "source": [
    "### Saved Flattened To CSV File"
   ]
  },
  {
   "cell_type": "code",
   "execution_count": null,
   "metadata": {},
   "outputs": [],
   "source": [
    "resultspth = filedestinationpath + fileNameRoot + '.csv'\n",
    "df_final.to_csv(resultspth, index = False)\n",
    "df_final"
   ]
  },
  {
   "cell_type": "code",
   "execution_count": null,
   "metadata": {},
   "outputs": [],
   "source": []
  }
 ],
 "metadata": {
  "kernelspec": {
   "display_name": "Python 3",
   "language": "python",
   "name": "python3"
  },
  "language_info": {
   "codemirror_mode": {
    "name": "ipython",
    "version": 3
   },
   "file_extension": ".py",
   "mimetype": "text/x-python",
   "name": "python",
   "nbconvert_exporter": "python",
   "pygments_lexer": "ipython3",
   "version": "3.8.5"
  }
 },
 "nbformat": 4,
 "nbformat_minor": 4
}
